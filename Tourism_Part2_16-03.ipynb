{
 "cells": [
  {
   "cell_type": "code",
   "execution_count": 1,
   "id": "dad690c4-393e-4fab-bbee-67f0446ad6be",
   "metadata": {},
   "outputs": [],
   "source": [
    "import pandas as pd\n",
    "import numpy as np\n",
    "from sklearn.model_selection import train_test_split\n",
    "from sklearn.preprocessing import LabelEncoder, StandardScaler\n",
    "from xgboost import XGBClassifier\n",
    "from sklearn.metrics import accuracy_score, precision_score, recall_score, f1_score"
   ]
  },
  {
   "cell_type": "code",
   "execution_count": 3,
   "id": "93e8ec54-f3fb-43f9-9790-1dc7784e29a6",
   "metadata": {},
   "outputs": [],
   "source": [
    "df1=pd.read_csv(\"D:/cdrive/desktop/DIVYA/CAREER/guvi/PROJECT/TOURISM/16-03/debug6.csv\")"
   ]
  },
  {
   "cell_type": "code",
   "execution_count": 5,
   "id": "fe198f24-f716-4eca-bb97-0490068235e2",
   "metadata": {},
   "outputs": [
    {
     "name": "stdout",
     "output_type": "stream",
     "text": [
      "userid                0\n",
      "visityear             0\n",
      "visitMonth            0\n",
      "visitmodeID           0\n",
      "attractionid          0\n",
      "rating                0\n",
      "attraction            0\n",
      "AttractionAddress     0\n",
      "AttractionCityId      0\n",
      "attractiontypeid      0\n",
      "contenentid           0\n",
      "regionid              0\n",
      "countryid             0\n",
      "cityid                8\n",
      "attractiontype        0\n",
      "visitmode             0\n",
      "UserCity              8\n",
      "UserCountry           0\n",
      "UserRegion            0\n",
      "UserContinent         0\n",
      "AttractionCityName    0\n",
      "AttractionCountry     0\n",
      "AttractionRegion      0\n",
      "dtype: int64\n",
      "16\n"
     ]
    }
   ],
   "source": [
    "print((df1 == \"\\\\N\").sum())  # Count \\N occurrences per column\n",
    "print(df1.isin([\"\\\\N\"]).sum().sum())  #\n"
   ]
  },
  {
   "cell_type": "code",
   "execution_count": 7,
   "id": "b26c79b5-ced1-48a4-98b2-0746534bb80d",
   "metadata": {},
   "outputs": [
    {
     "name": "stdout",
     "output_type": "stream",
     "text": [
      "userid                0\n",
      "visityear             0\n",
      "visitMonth            0\n",
      "visitmodeID           0\n",
      "attractionid          0\n",
      "rating                0\n",
      "attraction            0\n",
      "AttractionAddress     0\n",
      "AttractionCityId      0\n",
      "attractiontypeid      0\n",
      "contenentid           0\n",
      "regionid              0\n",
      "countryid             0\n",
      "cityid                0\n",
      "attractiontype        0\n",
      "visitmode             0\n",
      "UserCity              0\n",
      "UserCountry           0\n",
      "UserRegion            0\n",
      "UserContinent         0\n",
      "AttractionCityName    0\n",
      "AttractionCountry     0\n",
      "AttractionRegion      0\n",
      "dtype: int64\n",
      "0\n"
     ]
    }
   ],
   "source": [
    "# Replace \"\\\\N\" with NaN (modify df1 in place)\n",
    "df1['cityid'] = df1['cityid'].replace(\"\\\\N\", np.nan)\n",
    "\n",
    "# Drop rows with NaN in 'cityid'\n",
    "df1 = df1.dropna(subset=['cityid'])\n",
    "\n",
    "# Reset index\n",
    "df1 = df1.reset_index(drop=True)\n",
    "\n",
    "# Verify if \"\\\\N\" is gone\n",
    "print((df1 == \"\\\\N\").sum())  # Count \\N occurrences per column\n",
    "print(df1.isin([\"\\\\N\"]).sum().sum())  # Count total occurrences"
   ]
  },
  {
   "cell_type": "code",
   "execution_count": 9,
   "id": "ea04e811-a447-4ff7-a3a7-463bf830fc91",
   "metadata": {},
   "outputs": [],
   "source": [
    "df1[\"cityid\"] = pd.to_numeric(df1[\"cityid\"], errors=\"coerce\").fillna(0).astype(int)"
   ]
  },
  {
   "cell_type": "code",
   "execution_count": 11,
   "id": "06ca2246-f149-4465-b5be-bc394cce71e5",
   "metadata": {},
   "outputs": [
    {
     "data": {
      "text/plain": [
       "False"
      ]
     },
     "execution_count": 11,
     "metadata": {},
     "output_type": "execute_result"
    }
   ],
   "source": [
    "##Checking for null values\n",
    "df1.isnull().sum().any()"
   ]
  },
  {
   "cell_type": "code",
   "execution_count": 13,
   "id": "c634d88b-e3f0-4e0e-8b37-752282983ca4",
   "metadata": {},
   "outputs": [
    {
     "data": {
      "text/plain": [
       "3722"
      ]
     },
     "execution_count": 13,
     "metadata": {},
     "output_type": "execute_result"
    }
   ],
   "source": [
    "##Getting an ida about the duplicates\n",
    "df1.duplicated().sum()\n",
    "# 0 indicates that there are no duplicates in the data"
   ]
  },
  {
   "cell_type": "code",
   "execution_count": 15,
   "id": "2732c278-9ca6-415d-88fb-fb36192a35ae",
   "metadata": {},
   "outputs": [],
   "source": [
    "##dropping the duplicates\n",
    "df1=df1.drop_duplicates()"
   ]
  },
  {
   "cell_type": "code",
   "execution_count": 17,
   "id": "a70fa846-3d38-46ce-9535-56c8d499c010",
   "metadata": {},
   "outputs": [
    {
     "data": {
      "text/plain": [
       "0"
      ]
     },
     "execution_count": 17,
     "metadata": {},
     "output_type": "execute_result"
    }
   ],
   "source": [
    "##Getting an ida about the duplicates\n",
    "df1.duplicated().sum()\n",
    "##0 indicates there are no duplicate values"
   ]
  },
  {
   "cell_type": "code",
   "execution_count": 19,
   "id": "521ea83b-bff9-4fa2-b50a-0c6a72f2bcd8",
   "metadata": {},
   "outputs": [],
   "source": [
    "from sklearn.model_selection import train_test_split\n",
    "from sklearn.ensemble import RandomForestClassifier\n",
    "from sklearn import metrics\n",
    "import matplotlib.pyplot as plt\n",
    "import seaborn as sns"
   ]
  },
  {
   "cell_type": "code",
   "execution_count": 25,
   "id": "12522b56-4daa-46bd-8a7c-081c71907a46",
   "metadata": {},
   "outputs": [],
   "source": [
    "X = df1[\n",
    "    [\n",
    "        \"visityear\", \"visitMonth\", \"attractionid\",\n",
    "        \"contenentid\", \"regionid\", \"countryid\", \"cityid\",\n",
    "        \"AttractionCityId\"\n",
    "    ]\n",
    "]\n",
    "y = df1[\"visitmodeID\"]  # Target variable\n",
    "\n"
   ]
  },
  {
   "cell_type": "code",
   "execution_count": 27,
   "id": "e6c5bb67-2cd2-4c99-a28f-a6ffd2726c74",
   "metadata": {},
   "outputs": [],
   "source": [
    "# Performing train test split\n",
    "X_train, X_test, y_train, y_test = train_test_split(X, y, test_size = 0.2, random_state = 5)"
   ]
  },
  {
   "cell_type": "code",
   "execution_count": 29,
   "id": "ca22a6b5-a7af-4b7b-a9dd-dc90fbb85bab",
   "metadata": {},
   "outputs": [],
   "source": [
    "# Creating the classifier\n",
    "clf = RandomForestClassifier(random_state = 5)\n",
    "\n",
    "# Fitting the data\n",
    "clf.fit(X_train, y_train)\n",
    "\n",
    "# Taking predictions from the model\n",
    "y_pred = clf.predict(X_test)\n",
    "y_train_pred = clf.predict(X_train)"
   ]
  },
  {
   "cell_type": "code",
   "execution_count": 31,
   "id": "91acabdd-f25e-472f-bcb0-26aba2075b6d",
   "metadata": {},
   "outputs": [
    {
     "name": "stdout",
     "output_type": "stream",
     "text": [
      "Testing Accuracy : 0.43\n",
      "Testing Precision : 0.41\n",
      "Testing Recall : 0.43\n",
      "Testing F1 Score : 0.42\n",
      "\n",
      "Training Accuracy : 0.89\n",
      "Training Precision : 0.89\n",
      "Training Recall : 0.89\n",
      "Training F1 Score : 0.89\n"
     ]
    }
   ],
   "source": [
    "# Evaluating the model \n",
    "# Testing Performance\n",
    "print('Testing Accuracy :', np.round(metrics.accuracy_score(y_test, y_pred), 2))\n",
    "print('Testing Precision :', np.round(metrics.precision_score(y_test, y_pred, average = 'weighted'), 2))\n",
    "print('Testing Recall :', np.round(metrics.recall_score(y_test, y_pred, average = 'weighted'), 2))\n",
    "print('Testing F1 Score :', np.round(metrics.f1_score(y_test, y_pred, average = 'weighted'), 2))\n",
    "\n",
    "# Training Performance\n",
    "print('\\nTraining Accuracy :', np.round(metrics.accuracy_score(y_train, y_train_pred), 2))\n",
    "print('Training Precision :', np.round(metrics.precision_score(y_train, y_train_pred, average = 'weighted'), 2))\n",
    "print('Training Recall :', np.round(metrics.recall_score(y_train, y_train_pred, average = 'weighted'), 2))\n",
    "print('Training F1 Score :', np.round(metrics.f1_score(y_train, y_train_pred, average = 'weighted'), 2))"
   ]
  },
  {
   "cell_type": "code",
   "execution_count": null,
   "id": "56a6c684-2e62-491c-aee0-f38fda2158ec",
   "metadata": {},
   "outputs": [],
   "source": [
    "##model is overfitting"
   ]
  },
  {
   "cell_type": "code",
   "execution_count": 33,
   "id": "dca41b63-c6e5-4b17-883f-bd01d011dc2b",
   "metadata": {},
   "outputs": [],
   "source": [
    "from sklearn.preprocessing import LabelEncoder\n",
    "from xgboost import XGBClassifier"
   ]
  },
  {
   "cell_type": "code",
   "execution_count": 35,
   "id": "f69b597c-3141-409d-b603-3679f965e256",
   "metadata": {},
   "outputs": [],
   "source": [
    "X = df1[\n",
    "    [\n",
    "        \"visityear\", \"visitMonth\", \"attractionid\",\n",
    "        \"contenentid\", \"regionid\", \"countryid\", \"cityid\",\n",
    "        \"AttractionCityId\"\n",
    "    ]\n",
    "]\n",
    "y = df1[\"visitmodeID\"]  # Target variable\n",
    "\n"
   ]
  },
  {
   "cell_type": "code",
   "execution_count": 37,
   "id": "4b9558f8-766f-4d65-9b08-c73e36b11889",
   "metadata": {},
   "outputs": [],
   "source": [
    "# One-Hot Encode Categorical Features\n",
    "X = pd.get_dummies(X, drop_first=True)  # Avoid multicollinearity"
   ]
  },
  {
   "cell_type": "code",
   "execution_count": 39,
   "id": "7ce4161d-53ea-4ab6-8d14-06e4e3037aaa",
   "metadata": {},
   "outputs": [],
   "source": [
    "# Encode Target Variable\n",
    "le = LabelEncoder()\n",
    "y = le.fit_transform(y)  # Convert target labels into numerical values\n"
   ]
  },
  {
   "cell_type": "code",
   "execution_count": 47,
   "id": "ab2ca621-bf96-4ee0-8cb5-861ab923ff55",
   "metadata": {},
   "outputs": [
    {
     "name": "stdout",
     "output_type": "stream",
     "text": [
      "[0]\tvalidation_0-mlogloss:1.58699\n",
      "[10]\tvalidation_0-mlogloss:1.43838\n",
      "[20]\tvalidation_0-mlogloss:1.35487\n",
      "[30]\tvalidation_0-mlogloss:1.30606\n",
      "[40]\tvalidation_0-mlogloss:1.27561\n",
      "[50]\tvalidation_0-mlogloss:1.25611\n",
      "[60]\tvalidation_0-mlogloss:1.24308\n",
      "[70]\tvalidation_0-mlogloss:1.23408\n",
      "[80]\tvalidation_0-mlogloss:1.22731\n",
      "[90]\tvalidation_0-mlogloss:1.22252\n",
      "[100]\tvalidation_0-mlogloss:1.21895\n",
      "[110]\tvalidation_0-mlogloss:1.21638\n",
      "[120]\tvalidation_0-mlogloss:1.21455\n",
      "[130]\tvalidation_0-mlogloss:1.21319\n",
      "[140]\tvalidation_0-mlogloss:1.21196\n",
      "[150]\tvalidation_0-mlogloss:1.21098\n",
      "[160]\tvalidation_0-mlogloss:1.21032\n",
      "[170]\tvalidation_0-mlogloss:1.20970\n",
      "[180]\tvalidation_0-mlogloss:1.20922\n",
      "[190]\tvalidation_0-mlogloss:1.20895\n",
      "[199]\tvalidation_0-mlogloss:1.20863\n",
      "Training Accuracy : 0.5178353658536585\n",
      "Testing Accuracy  : 0.48089430894308943\n",
      "Testing Precision : 0.46279882000987493\n",
      "Testing Recall    : 0.48089430894308943\n",
      "Testing F1 Score  : 0.42356845730879344\n"
     ]
    },
    {
     "data": {
      "text/plain": [
       "['D:/cdrive/desktop/DIVYA/CAREER/guvi/PROJECT/TOURISM/16-03/visit_mode_model_16.pkl']"
      ]
     },
     "execution_count": 47,
     "metadata": {},
     "output_type": "execute_result"
    }
   ],
   "source": [
    "scaler = StandardScaler()\n",
    "X_scaled = scaler.fit_transform(X)\n",
    "\n",
    "X_train, X_test, y_train, y_test = train_test_split(\n",
    "    X_scaled, y, test_size=0.2, random_state=42, stratify=y\n",
    ")\n",
    "\n",
    "# Get Number of Classes\n",
    "num_classes = len(np.unique(y))\n",
    "\n",
    "# Initialize XGBoost Classifier\n",
    "model = XGBClassifier(\n",
    "    n_estimators=200,     \n",
    "    max_depth=6,          \n",
    "    learning_rate=0.05,   \n",
    "    reg_lambda=1.0,       \n",
    "    reg_alpha=0.5,        \n",
    "    subsample=0.8,        \n",
    "    colsample_bytree=0.8, \n",
    "    random_state=42,\n",
    "    objective=\"multi:softmax\",  # Use softmax for multi-class classification\n",
    "    num_class=num_classes      \n",
    ")\n",
    "\n",
    "# Set evaluation metric manually\n",
    "model.set_params(eval_metric=\"mlogloss\")\n",
    "\n",
    "# Train Model\n",
    "model.fit(\n",
    "    X_train, y_train, \n",
    "    eval_set=[(X_test, y_test)], \n",
    "    verbose=10  \n",
    ")\n",
    "\n",
    "# Predict\n",
    "y_pred = model.predict(X_test)\n",
    "y_train_pred = model.predict(X_train)\n",
    "\n",
    "# Evaluate Model\n",
    "print(\"Training Accuracy :\", accuracy_score(y_train, y_train_pred))\n",
    "print(\"Testing Accuracy  :\", accuracy_score(y_test, y_pred))\n",
    "print(\"Testing Precision :\", precision_score(y_test, y_pred, average='weighted', zero_division=1))\n",
    "print(\"Testing Recall    :\", recall_score(y_test, y_pred, average='weighted', zero_division=1))\n",
    "print(\"Testing F1 Score  :\", f1_score(y_test, y_pred, average='weighted', zero_division=1))\n",
    "import joblib\n",
    "joblib.dump(model, \"D:/cdrive/desktop/DIVYA/CAREER/guvi/PROJECT/TOURISM/16-03/visit_mode_model_16.pkl\")"
   ]
  },
  {
   "cell_type": "code",
   "execution_count": null,
   "id": "af16c0c3-814a-48e1-956d-45db197451de",
   "metadata": {},
   "outputs": [],
   "source": [
    "'''\n",
    "The training accuracy (51.9%) and testing accuracy (48.2%) are close to each other, indicating the model is not overfitting to the training data.\n",
    "This suggests the model is learning patterns that generalize well to new data.\n",
    "A testing accuracy of 48.2% is reasonable, given the inherent subjectivity in user preferences.\n",
    "A precision of 45.1% means that when the model predicts a visit mode, it is fairly reliable.\n",
    "A recall of 48.2% shows the model is capturing nearly half of the actual visit modes, meaning it is retrieving a significant portion of the true cases.\n",
    "The F1 score (42.4%) balances both, indicating a moderate but stable classification performance.\n",
    "'''"
   ]
  }
 ],
 "metadata": {
  "kernelspec": {
   "display_name": "Python 3 (ipykernel)",
   "language": "python",
   "name": "python3"
  },
  "language_info": {
   "codemirror_mode": {
    "name": "ipython",
    "version": 3
   },
   "file_extension": ".py",
   "mimetype": "text/x-python",
   "name": "python",
   "nbconvert_exporter": "python",
   "pygments_lexer": "ipython3",
   "version": "3.12.4"
  }
 },
 "nbformat": 4,
 "nbformat_minor": 5
}
